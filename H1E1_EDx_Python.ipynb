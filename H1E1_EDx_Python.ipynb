{
 "cells": [
  {
   "cell_type": "markdown",
   "metadata": {},
   "source": [
    "# Homework 1 Exercise 1\n",
    "In this five-part exercise, we will count the frequency of each letter in a given string."
   ]
  },
  {
   "cell_type": "markdown",
   "metadata": {},
   "source": [
    "## Exercise 1a\n",
    "* Import the string library.\n",
    "* Create a variable alphabet that consists of the lowercase and uppercase letters in the English alphabet using the ascii_letters data attribute of the string library."
   ]
  },
  {
   "cell_type": "code",
   "execution_count": 5,
   "metadata": {},
   "outputs": [
    {
     "data": {
      "text/plain": [
       "'abcdefghijklmnopqrstuvwxyzABCDEFGHIJKLMNOPQRSTUVWXYZ'"
      ]
     },
     "execution_count": 5,
     "metadata": {},
     "output_type": "execute_result"
    }
   ],
   "source": [
    "import string as st\n",
    "alphabet=st.ascii_letters\n",
    "alphabet"
   ]
  },
  {
   "cell_type": "markdown",
   "metadata": {},
   "source": [
    "## Exercise 1b\n",
    "\n",
    "* The lower and upper cases of the English alphabet are stored as the string ` alphabet `.\n",
    "* Consider the sentence 'Jim quickly realized that the beautiful gowns are expensive'. Create a dictionary ` count_letters ` with keys consisting of each unique letter in the sentence and values consisting of the number of times each letter is used in this sentence. Count upper case and lower case letters separately in the dictionary."
   ]
  },
  {
   "cell_type": "code",
   "execution_count": 30,
   "metadata": {},
   "outputs": [
    {
     "name": "stdout",
     "output_type": "stream",
     "text": [
      "{'J': 1, 'i': 5, 'm': 1, 'q': 1, 'u': 3, 'c': 1, 'k': 1, 'l': 3, 'y': 1, 'r': 2, 'e': 8, 'a': 4, 'z': 1, 'd': 1, 't': 4, 'h': 2, 'b': 1, 'f': 1, 'g': 1, 'o': 1, 'w': 1, 'n': 2, 's': 2, 'x': 1, 'p': 1, 'v': 1}\n"
     ]
    }
   ],
   "source": [
    "sentence = 'Jim quickly realized - , <> ?that the beautiful gowns are expensive'\n",
    "\n",
    "# set join is used here, so it would be relatively slow for a big string with many non-alphabet chars to join\n",
    "# count_letters={}.fromkeys(set(sentence)&set(alphabet),0) #a set join to exclude all chars not in the alphabet\n",
    "# for c in sentence:\n",
    "#     if c not in count_letters: continue # use set, since the loop up is of O(1) complexity\n",
    "#     count_letters[c]+=1\n",
    "# print(count_letters)\n",
    "\n",
    "\n",
    "sentence = 'Jim quickly realized that the beautiful gowns are expensive'\n",
    "count_letters={}\n",
    "alphabet_set=set(alphabet)\n",
    "for c in sentence:\n",
    "    if c in count_letters: # set look up only takes O(1) time, so it's OK\n",
    "        count_letters[c]+=1\n",
    "    elif c in alphabet_set:\n",
    "        count_letters[c]=1\n",
    "print(count_letters)\n"
   ]
  },
  {
   "cell_type": "markdown",
   "metadata": {},
   "source": [
    "## Exercise 1c\n",
    "* Rewrite your code from 1b to make a function called ` counter ` that takes a string ` input_string ` and returns a dictionary of letter counts ` count_letters `. If you were unable to complete __1b__, you can use the solution by selecting ` Show Answer `.\n",
    "* Use your function to call ` counter(sentence) `."
   ]
  },
  {
   "cell_type": "code",
   "execution_count": 31,
   "metadata": {},
   "outputs": [
    {
     "name": "stdout",
     "output_type": "stream",
     "text": [
      "{'J': 1, 'i': 5, 'm': 1, 'q': 1, 'u': 3, 'c': 1, 'k': 1, 'l': 3, 'y': 1, 'r': 2, 'e': 8, 'a': 4, 'z': 1, 'd': 1, 't': 4, 'h': 2, 'b': 1, 'f': 1, 'g': 1, 'o': 1, 'w': 1, 'n': 2, 's': 2, 'x': 1, 'p': 1, 'v': 1}\n"
     ]
    }
   ],
   "source": [
    "sentence = 'Jim quickly realized that the beautiful gowns are expensive'\n",
    "\n",
    "def counter(sentence):\n",
    "    count_letters={}\n",
    "    alphabet_set=set(alphabet)\n",
    "    for c in sentence:\n",
    "        if c in count_letters: # set look up only takes O(1) time, so it's OK\n",
    "            count_letters[c]+=1\n",
    "        elif c in alphabet_set:\n",
    "            count_letters[c]=1\n",
    "    return count_letters\n",
    "print(counter(sentence))"
   ]
  },
  {
   "cell_type": "markdown",
   "metadata": {},
   "source": [
    "## Exercise 1d\n",
    "* Abraham Lincoln was a president during the American Civil War. His famous 1863 Gettysburg Address has been stored as ` address `, and the ` counter ` function as defined in part __1c__ has been loaded. Use these to return a dictionary consisting of the count of each letter in this address, and save this as ` address_count `.\n",
    "* Print address_count."
   ]
  },
  {
   "cell_type": "code",
   "execution_count": 19,
   "metadata": {},
   "outputs": [],
   "source": [
    "address=\"\"\"                                                                                                Four score and seven years ago our fathers brought forth  \\\n",
    "Now we are engaged in a great civil war  testing whether that nation  or any nation so conceived                                   and so dedicated         \n",
    "\n",
    "                                                                                                                                upon this continent  \\\n",
    "Now we are engaged in a great civil war  testing whether that nation  or any nation so conceived   can long endure. We are met on a great battle...   \n",
    "\n",
    "                                                                                                                                       a new nation  \\\n",
    "Now we are engaged in a great civil war  testing whether that nation  or any nation so conceived   as a final resting place for those who died here   \n",
    "\n",
    "                                                                                                                      conceived in liberty  \\\n",
    "Now we are engaged in a great civil war  testing whether that nation  or any nation so conceived   that the nation might live. This we may   \n",
    "\n",
    "                                                                                                  and dedicated to the proposition that all men are created equal.  \n",
    "Now we are engaged in a great civil war  testing whether that nation  or any nation so conceived                               in all propriety do.\n",
    "\"\"\"\n"
   ]
  },
  {
   "cell_type": "code",
   "execution_count": 32,
   "metadata": {},
   "outputs": [
    {
     "name": "stdout",
     "output_type": "stream",
     "text": [
      "{'F': 1, 'o': 53, 'u': 6, 'r': 44, 's': 21, 'c': 24, 'e': 87, 'a': 73, 'n': 69, 'd': 25, 'v': 13, 'y': 9, 'g': 26, 'f': 4, 't': 68, 'h': 28, 'b': 3, 'N': 5, 'w': 23, 'i': 54, 'l': 16, 'p': 6, 'W': 1, 'm': 4, 'T': 1, 'q': 1}\n"
     ]
    }
   ],
   "source": [
    "address_count=counter(address)\n",
    "print(address_count)"
   ]
  },
  {
   "cell_type": "markdown",
   "metadata": {},
   "source": [
    "## Exercise 1e\n",
    "The frequency of each letter in the Gettysburg Address is already stored as ` address_count `. Use this dictionary to find the most common letter in the Gettysburg address.\n",
    "Store this letter as ` most_frequent_letter `, and print your answer."
   ]
  },
  {
   "cell_type": "code",
   "execution_count": 33,
   "metadata": {},
   "outputs": [
    {
     "name": "stdout",
     "output_type": "stream",
     "text": [
      "e\n"
     ]
    }
   ],
   "source": [
    "most_frequent_letter=\"\"\n",
    "max_value=0\n",
    "for k in address_count.keys():\n",
    "    if address_count[k]>=max_value:\n",
    "        most_frequent_letter=k\n",
    "        max_value=address_count[k]\n",
    "print(most_frequent_letter)"
   ]
  },
  {
   "cell_type": "code",
   "execution_count": null,
   "metadata": {},
   "outputs": [],
   "source": []
  }
 ],
 "metadata": {
  "kernelspec": {
   "display_name": "Python 3",
   "language": "python",
   "name": "python3"
  },
  "language_info": {
   "codemirror_mode": {
    "name": "ipython",
    "version": 3
   },
   "file_extension": ".py",
   "mimetype": "text/x-python",
   "name": "python",
   "nbconvert_exporter": "python",
   "pygments_lexer": "ipython3",
   "version": "3.6.4"
  }
 },
 "nbformat": 4,
 "nbformat_minor": 2
}

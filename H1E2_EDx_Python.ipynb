{
 "cells": [
  {
   "cell_type": "markdown",
   "metadata": {},
   "source": [
    "# Homework 1 Exercise 2\n",
    "Consider a circle enclosed by a square. The ratio of their areas is ` pi / 4 `. In this six-part exercise, we will find a way to approximate this value."
   ]
  },
  {
   "cell_type": "markdown",
   "metadata": {},
   "source": [
    "## Exercise 2a\n",
    "* Using the ` math ` library, calculate and print the value of ` pi / 4 `."
   ]
  },
  {
   "cell_type": "code",
   "execution_count": 6,
   "metadata": {},
   "outputs": [
    {
     "name": "stdout",
     "output_type": "stream",
     "text": [
      "0.7853981633974483\n"
     ]
    }
   ],
   "source": [
    "import math\n",
    "print(math.pi/4)"
   ]
  },
  {
   "cell_type": "markdown",
   "metadata": {},
   "source": [
    "## Exercise 2b\n",
    "* Using ` random.uniform() `, create a function ` rand() ` that generates a single ` float ` between ` -1 ` and ` 1 `.\n",
    "* Call ` rand() ` once. So we can check your solution, we will use ` random.seed() ` to fix the value called by your function."
   ]
  },
  {
   "cell_type": "code",
   "execution_count": 7,
   "metadata": {},
   "outputs": [
    {
     "data": {
      "text/plain": [
       "-0.7312715117751976"
      ]
     },
     "execution_count": 7,
     "metadata": {},
     "output_type": "execute_result"
    }
   ],
   "source": [
    "import random\n",
    "\n",
    "random.seed(1) # using the same seed for all the program below would generate the same random number each time\n",
    "def rand():\n",
    "    return random.uniform(-1,1)\n",
    "rand()"
   ]
  },
  {
   "cell_type": "markdown",
   "metadata": {},
   "source": [
    "# Exercise 2c \n",
    "The distance between two points ` x ` and ` y ` is the square root of the sum of squared differences along each dimension of ` x ` and ` y `. Create a function ` distance(x, y) ` that takes two vectors and outputs the distance between them. Use your function to find the distance between ` x=(0,0) ` and ` y=(1,1) `.\n",
    "Print your answer."
   ]
  },
  {
   "cell_type": "code",
   "execution_count": 8,
   "metadata": {},
   "outputs": [
    {
     "name": "stdout",
     "output_type": "stream",
     "text": [
      "1.4142135623730951\n"
     ]
    }
   ],
   "source": [
    "import math\n",
    "def distance(x, y):\n",
    "    return math.sqrt((y[1]-x[1])**2+(y[0]-x[0])**2)\n",
    "print(distance((0,0),(1,1)))"
   ]
  },
  {
   "cell_type": "markdown",
   "metadata": {},
   "source": [
    "## Exercise 2d\n",
    "* Write a function ` in_circle(x, origin) ` that determines whether a two-dimensional point falls within a unit circle surrounding a given origin.\n",
    "  * Your function should return a boolean that is ` True ` if the distance between ` x ` and ` origin ` is less than 1, and ` False ` otherwise.\n",
    "  * ` distance(x, y) ` as defined in ` 2c ` is pre-loaded.\n",
    "* Use your function to determine whether the point ` (1,1) ` lies within the unit circle centered at ` (0,0) `.\n",
    "* Print your answer."
   ]
  },
  {
   "cell_type": "code",
   "execution_count": 9,
   "metadata": {},
   "outputs": [
    {
     "name": "stdout",
     "output_type": "stream",
     "text": [
      "False\n"
     ]
    }
   ],
   "source": [
    "random.seed(1)\n",
    "\n",
    "def in_circle(x, origin = [0]*2):\n",
    "    if distance(x, origin) < 1:\n",
    "       return True\n",
    "    return False\n",
    "\n",
    "print(in_circle((1,1),(0,0)))"
   ]
  },
  {
   "cell_type": "markdown",
   "metadata": {},
   "source": [
    "# Exercise 2e\n",
    "* Create a list of ` R=10000 ` booleans called ` inside ` that determines whether each point in ` x ` falls within the unit circle centered at ` (0,0) `. Make sure to use ` in_circle `.\n",
    "* Find the proportion of points within the circle by summing the count of ` True ` in ` inside `, and dividing by ` R `.\n",
    "* Print your answer. This proportion is an estimate of the ratio of the two areas!\n"
   ]
  },
  {
   "cell_type": "code",
   "execution_count": 10,
   "metadata": {},
   "outputs": [
    {
     "name": "stdout",
     "output_type": "stream",
     "text": [
      "0.779\n"
     ]
    }
   ],
   "source": [
    "R = 10000\n",
    "x = []\n",
    "inside = []\n",
    "for i in range(R):\n",
    "    point = [rand(), rand()]\n",
    "    x.append(point)\n",
    "    inside.append(in_circle(point,(0,0)))\n",
    "print(sum(inside) / R)"
   ]
  },
  {
   "cell_type": "markdown",
   "metadata": {},
   "source": [
    "# Exercise 2f\n",
    "* Find the difference between your estimate from part ` 2e ` and ` math.pi / 4 `. Note: inside and ` R ` are defined as in Exercise ` 2e `.\n",
    "* Print your answer."
   ]
  },
  {
   "cell_type": "code",
   "execution_count": 18,
   "metadata": {},
   "outputs": [
    {
     "name": "stdout",
     "output_type": "stream",
     "text": [
      "6.257601836602552\n"
     ]
    }
   ],
   "source": [
    "random.seed(1)\n",
    "\n",
    "for i in range(R):\n",
    "    point = [rand(), rand()]\n",
    "    x.append(point)\n",
    "    inside.append(in_circle(point,(0,0)))\n",
    "\n",
    "estimate=sum(inside) / R\n",
    "\n",
    "difference=abs(estimate-math.pi/4)\n",
    "\n",
    "print(difference)"
   ]
  }
 ],
 "metadata": {
  "kernelspec": {
   "display_name": "Python 3",
   "language": "python",
   "name": "python3"
  },
  "language_info": {
   "codemirror_mode": {
    "name": "ipython",
    "version": 3
   },
   "file_extension": ".py",
   "mimetype": "text/x-python",
   "name": "python",
   "nbconvert_exporter": "python",
   "pygments_lexer": "ipython3",
   "version": "3.6.4"
  }
 },
 "nbformat": 4,
 "nbformat_minor": 2
}
